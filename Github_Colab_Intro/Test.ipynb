{
  "nbformat": 4,
  "nbformat_minor": 0,
  "metadata": {
    "colab": {
<<<<<<< HEAD
      "name": "Test.ipynb",
      "version": "0.3.2",
      "provenance": []
=======
      "name": "Copy of Test.ipynb",
      "version": "0.3.2",
      "views": {},
      "default_view": {},
      "provenance": [
        {
          "file_id": "https://github.com/BeaverWorksMedlytics/Week1_public/blob/master/Github_Colab_Intro/Test.ipynb",
          "timestamp": 1531229867222
        }
      ]
>>>>>>> upstream/master
    },
    "kernelspec": {
      "display_name": "Python 3",
      "language": "python",
      "name": "python3"
    }
  },
  "cells": [
    {
      "metadata": {
<<<<<<< HEAD
        "id": "wBahbjkrVROT",
        "colab_type": "code",
        "colab": {
          "base_uri": "https://localhost:8080/",
          "height": 35
        },
        "outputId": "a9fea333-0e58-4138-a643-8ece93519cb8"
      },
      "cell_type": "code",
      "source": [
        "print('cheers m8')"
      ],
      "execution_count": 0,
      "outputs": [
        {
          "output_type": "stream",
          "text": [
            "cheers m8\n"
          ],
          "name": "stdout"
      "cell_type": "code",
      "source": [
        "# Hey, the upstream repository was updated!\n",
        "\n",
        "print(\"Oh no!\")"
      ],
      "execution_count": 0,
      "outputs": []

      ]






















